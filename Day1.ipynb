{
  "cells": [
    {
      "cell_type": "markdown",
      "metadata": {
        "id": "view-in-github",
        "colab_type": "text"
      },
      "source": [
        "<a href=\"https://colab.research.google.com/github/Meena0809/AI-5-Day-Workshop/blob/master/Day1.ipynb\" target=\"_parent\"><img src=\"https://colab.research.google.com/assets/colab-badge.svg\" alt=\"Open In Colab\"/></a>"
      ]
    },
    {
      "cell_type": "code",
      "execution_count": null,
      "metadata": {
        "colab": {
          "base_uri": "https://localhost:8080/"
        },
        "id": "gikxj4cHQnG4",
        "outputId": "22b8156a-4f28-44d3-8357-aeeb941ca1c5"
      },
      "outputs": [
        {
          "name": "stdout",
          "output_type": "stream",
          "text": [
            "Even\n",
            "odd\n",
            "Even\n",
            "odd\n",
            "Even\n",
            "odd\n",
            "Even\n",
            "odd\n",
            "Even\n",
            "odd\n",
            "Even\n",
            "odd\n",
            "Even\n",
            "odd\n",
            "Even\n",
            "odd\n",
            "Even\n",
            "odd\n",
            "Even\n",
            "odd\n",
            "Even\n",
            "odd\n",
            "Even\n",
            "odd\n",
            "Even\n",
            "odd\n",
            "Even\n",
            "odd\n",
            "Even\n",
            "odd\n",
            "Even\n",
            "odd\n",
            "Even\n",
            "odd\n",
            "Even\n",
            "odd\n",
            "Even\n",
            "odd\n",
            "Even\n",
            "odd\n",
            "Even\n",
            "odd\n",
            "Even\n",
            "odd\n",
            "Even\n",
            "odd\n",
            "Even\n",
            "odd\n",
            "Even\n",
            "odd\n",
            "Even\n",
            "odd\n",
            "Even\n",
            "odd\n",
            "Even\n",
            "odd\n",
            "Even\n",
            "odd\n",
            "Even\n",
            "odd\n",
            "Even\n",
            "odd\n",
            "Even\n",
            "odd\n",
            "Even\n",
            "odd\n",
            "Even\n",
            "odd\n",
            "Even\n",
            "odd\n",
            "Even\n",
            "odd\n",
            "Even\n",
            "odd\n",
            "Even\n",
            "odd\n",
            "Even\n",
            "odd\n",
            "Even\n",
            "odd\n",
            "Even\n",
            "odd\n",
            "Even\n",
            "odd\n",
            "Even\n",
            "odd\n",
            "Even\n",
            "odd\n",
            "Even\n",
            "odd\n",
            "Even\n",
            "odd\n",
            "Even\n",
            "odd\n",
            "Even\n",
            "odd\n",
            "Even\n",
            "odd\n",
            "Even\n",
            "odd\n"
          ]
        }
      ],
      "source": [
        "for i in range(0,10):\n",
        "  if i%2==0:\n",
        "    print(i,\"Even\")\n",
        "  else:\n",
        "    print(i,\"odd\")"
      ]
    },
    {
      "cell_type": "code",
      "execution_count": null,
      "metadata": {
        "id": "J8Fdmwr4RUGF"
      },
      "outputs": [],
      "source": [
        "while(i<10):\n",
        "  if i%2==0:\n",
        "    print(i,\"Even\")\n",
        "  else:\n",
        "    print(i,\"odd\")\n",
        "  i=i+1\n"
      ]
    },
    {
      "cell_type": "code",
      "execution_count": null,
      "metadata": {
        "id": "Mkh37VadSXS3"
      },
      "outputs": [],
      "source": []
    },
    {
      "cell_type": "code",
      "execution_count": null,
      "metadata": {
        "colab": {
          "base_uri": "https://localhost:8080/"
        },
        "id": "090-aE8oSfHF",
        "outputId": "a27ecf5d-26d4-41e6-f6a6-e835aa5a5527"
      },
      "outputs": [
        {
          "name": "stdout",
          "output_type": "stream",
          "text": [
            "<class 'int'>\n"
          ]
        }
      ],
      "source": [
        "n=13\n",
        "print(type(n))\n"
      ]
    },
    {
      "cell_type": "code",
      "execution_count": null,
      "metadata": {
        "colab": {
          "base_uri": "https://localhost:8080/"
        },
        "id": "xje0F18sSmB4",
        "outputId": "af56fb5e-1c11-4668-f3da-b9b0487a8701"
      },
      "outputs": [
        {
          "name": "stdout",
          "output_type": "stream",
          "text": [
            "[20, 30, 40]\n"
          ]
        }
      ],
      "source": [
        "list1=[20,30,40]\n",
        "print(list1)"
      ]
    },
    {
      "cell_type": "code",
      "execution_count": null,
      "metadata": {
        "colab": {
          "base_uri": "https://localhost:8080/"
        },
        "id": "pXi_--bySrYV",
        "outputId": "107a2395-73e7-42b2-bf52-396e05e987ec"
      },
      "outputs": [
        {
          "name": "stdout",
          "output_type": "stream",
          "text": [
            "<class 'list'>\n"
          ]
        }
      ],
      "source": [
        "list1=[20,30,40]\n",
        "print(type(list1))"
      ]
    },
    {
      "cell_type": "code",
      "execution_count": null,
      "metadata": {
        "colab": {
          "base_uri": "https://localhost:8080/"
        },
        "id": "Nse4baDMS4-l",
        "outputId": "1340b3ea-e978-4fab-a3ad-a3e5a77be67e"
      },
      "outputs": [
        {
          "name": "stdout",
          "output_type": "stream",
          "text": [
            "[20, 30, 40, 60]\n"
          ]
        }
      ],
      "source": [
        "list1=[20,30,40]\n",
        "list1.append(60)\n",
        "print(list1)"
      ]
    },
    {
      "cell_type": "code",
      "execution_count": null,
      "metadata": {
        "colab": {
          "base_uri": "https://localhost:8080/"
        },
        "id": "Olm2f3XlVKHN",
        "outputId": "9d0ebda1-80f1-4092-f186-d3bf7de44803"
      },
      "outputs": [
        {
          "name": "stdout",
          "output_type": "stream",
          "text": [
            "[10, 56] ['read', 'IOT'] [4.5, 45.6]\n"
          ]
        }
      ],
      "source": [
        "list2=[10,\"read\",56,4.5,\"IOT\",45.6]\n",
        "intlist=[]\n",
        "strlist=[]\n",
        "floatlist=[]\n",
        "for i in list2:\n",
        "  if type(i)==str:\n",
        "    strlist.append(i)\n",
        "  elif type(i)==int:\n",
        "    intlist.append(i)\n",
        "  elif type(i)==float:\n",
        "    floatlist.append(i)\n",
        "print(intlist ,strlist ,floatlist)"
      ]
    },
    {
      "cell_type": "code",
      "execution_count": null,
      "metadata": {
        "colab": {
          "base_uri": "https://localhost:8080/",
          "height": 52
        },
        "id": "RuphhurEWfD1",
        "outputId": "1aab0d7a-8b58-4142-e46c-23e31c460ece"
      },
      "outputs": [
        {
          "name": "stdout",
          "output_type": "stream",
          "text": [
            "[10, 56] ['read', 'IOT'] [4.5, 45.6]\n"
          ]
        },
        {
          "data": {
            "application/vnd.google.colaboratory.intrinsic+json": {
              "type": "string"
            },
            "text/plain": [
              "'e'"
            ]
          },
          "execution_count": 16,
          "metadata": {},
          "output_type": "execute_result"
        }
      ],
      "source": [
        "#list comprehension\n",
        "intlist=[i for i in list2 if type(i)==int]\n",
        "strlist=[i for i in list2 if type(i)==str]\n",
        "floatlist=[i for i in list2 if type(i)==float]\n",
        "print(intlist,strlist,floatlist)\n",
        "list2[1][1]"
      ]
    },
    {
      "cell_type": "code",
      "execution_count": null,
      "metadata": {
        "id": "OtseHkkzX3fO"
      },
      "outputs": [],
      "source": [
        "def sum(x,y):\n",
        "  return x+y"
      ]
    },
    {
      "cell_type": "code",
      "execution_count": null,
      "metadata": {
        "colab": {
          "base_uri": "https://localhost:8080/"
        },
        "id": "55VuW-T2YNjz",
        "outputId": "18c24e45-5cf9-4ae1-831e-131ed895256a"
      },
      "outputs": [
        {
          "name": "stdout",
          "output_type": "stream",
          "text": [
            "([13], ['meena'], [9.5])\n",
            "[13]\n",
            "['meena']\n",
            "[9.5]\n"
          ]
        }
      ],
      "source": [
        "#create fun that will separate the elements of list acc to datatype\n",
        "def separate(n):\n",
        "  intlist=[i for i in n if type(i)==int]\n",
        "  strlist=[i for i in n if type(i)==str]\n",
        "  floatlist=[i for i in n if type(i)==float]\n",
        "  return intlist,strlist,floatlist\n",
        "y=[13,\"meena\",9.5]\n",
        "print(separate(y))\n",
        "sep_list=separate(y)\n",
        "for i in sep_list:\n",
        "  print(i)"
      ]
    },
    {
      "cell_type": "code",
      "execution_count": null,
      "metadata": {
        "colab": {
          "base_uri": "https://localhost:8080/"
        },
        "id": "C9RVL5-3cASm",
        "outputId": "875ef441-b4fa-4718-89e0-a4833ad18eae"
      },
      "outputs": [
        {
          "name": "stdout",
          "output_type": "stream",
          "text": [
            "55\n"
          ]
        }
      ],
      "source": [
        "#recurssive fun\n",
        "def recursum(n):\n",
        "  if(n<=1):\n",
        "    return n\n",
        "  return n+recursum(n-1)\n",
        "n=10\n",
        "print(recursum(n))"
      ]
    },
    {
      "cell_type": "code",
      "execution_count": null,
      "metadata": {
        "colab": {
          "base_uri": "https://localhost:8080/"
        },
        "id": "yOk5spDccogi",
        "outputId": "c2068a85-c075-4075-fe0e-a539a5d3321a"
      },
      "outputs": [
        {
          "name": "stdout",
          "output_type": "stream",
          "text": [
            "0\n",
            "1\n",
            "1\n",
            "2\n",
            "3\n"
          ]
        }
      ],
      "source": [
        "def recur_fib(n):\n",
        "  if n<=1:\n",
        "    return (n)\n",
        "  else:\n",
        "    return (recur_fib(n-1)+recur_fib(n-2))\n",
        "n=5\n",
        "for i in range(n):\n",
        "  print(recur_fib(i))"
      ]
    },
    {
      "cell_type": "code",
      "execution_count": null,
      "metadata": {
        "colab": {
          "base_uri": "https://localhost:8080/"
        },
        "id": "5ibm0aNudkQt",
        "outputId": "629b13a8-e4aa-435a-c9b8-3acfbc281e2d"
      },
      "outputs": [
        {
          "name": "stdout",
          "output_type": "stream",
          "text": [
            "120\n"
          ]
        }
      ],
      "source": [
        "def recur_fact(n):\n",
        "  if n<=1:\n",
        "    return (n)\n",
        "  else:\n",
        "    return(n*recur_fact(n-1))\n",
        "n=5\n",
        "print(recur_fact(n))"
      ]
    },
    {
      "cell_type": "code",
      "execution_count": null,
      "metadata": {
        "colab": {
          "base_uri": "https://localhost:8080/"
        },
        "id": "NH0y2WfPgffG",
        "outputId": "8378b5fc-b27c-4aab-951d-5d418ffe4740"
      },
      "outputs": [
        {
          "name": "stdout",
          "output_type": "stream",
          "text": [
            "0\n",
            "1\n",
            "2\n",
            "3\n",
            "4\n",
            "<generator object gen_num at 0x7dedaa06bd10>\n",
            "0\n",
            "0\n",
            "1\n"
          ]
        }
      ],
      "source": [
        "#generator fun\n",
        "def gen_num(n):\n",
        "  v=0\n",
        "  while v<n:\n",
        "    yield v\n",
        "    v+=1\n",
        "for v in gen_num(5):\n",
        "  print(v)\n",
        "print(gen_num(3))\n",
        "print(next(gen_num(3)))\n",
        "\n",
        "value=gen_num(3)\n",
        "print(next(value))\n",
        "\n",
        "print(next(value))"
      ]
    },
    {
      "cell_type": "code",
      "execution_count": null,
      "metadata": {
        "colab": {
          "base_uri": "https://localhost:8080/"
        },
        "id": "KRXgICxOj_6o",
        "outputId": "05d66be9-6e4a-40dd-bf3c-eae8a4bbf400"
      },
      "outputs": [
        {
          "name": "stdout",
          "output_type": "stream",
          "text": [
            "Jay\n",
            "prajyot\n",
            "sunil\n",
            "sonu\n",
            "[1998, 'Hyd']\n",
            "1998\n",
            "3\n"
          ]
        }
      ],
      "source": [
        "dict1={\n",
        "    \"Jay\":[1998,\"Hyd\"],\"prajyot\":[1995,\"Hyd\"],\"sunil\":[1998,\"delhi\"],\"sonu\":\"Hyd\"\n",
        "}\n",
        "for i in dict1.keys():\n",
        "  print(i)\n",
        "print(dict1[\"Jay\"])\n",
        "print(dict1[\"Jay\"][0])\n",
        "#counting no.of lists in dict1\n",
        "count=0\n",
        "for i in dict1.keys():\n",
        "  if type(dict1[i])==list:\n",
        "    count=count+1\n",
        "  count\n",
        "print(count)\n"
      ]
    },
    {
      "cell_type": "code",
      "execution_count": null,
      "metadata": {
        "colab": {
          "base_uri": "https://localhost:8080/"
        },
        "id": "RdLJqeye0eRD",
        "outputId": "a7411aaf-ffbf-49bd-ee3c-73ee357e0a9a"
      },
      "outputs": [
        {
          "name": "stdout",
          "output_type": "stream",
          "text": [
            "your code has error\n"
          ]
        }
      ],
      "source": [
        "# eerror handling\n",
        "x=50\n",
        "y=0\n",
        "\n",
        "try:\n",
        "    x/y\n",
        "except:\n",
        "    print(\"your code has error\")"
      ]
    },
    {
      "cell_type": "code",
      "execution_count": null,
      "metadata": {
        "id": "UU-I3cK31lOx"
      },
      "outputs": [],
      "source": []
    },
    {
      "cell_type": "code",
      "execution_count": null,
      "metadata": {
        "colab": {
          "base_uri": "https://localhost:8080/",
          "height": 35
        },
        "id": "XsxpeqlfpK02",
        "outputId": "29103fc1-8a76-4143-ad2d-c03991f56166"
      },
      "outputs": [
        {
          "data": {
            "application/vnd.google.colaboratory.intrinsic+json": {
              "type": "string"
            },
            "text/plain": [
              "'H'"
            ]
          },
          "execution_count": 50,
          "metadata": {},
          "output_type": "execute_result"
        }
      ],
      "source": [
        "dict1[\"Jay\"][1][0]"
      ]
    },
    {
      "cell_type": "code",
      "execution_count": null,
      "metadata": {
        "colab": {
          "base_uri": "https://localhost:8080/"
        },
        "id": "39GEzctWpOC1",
        "outputId": "3df7bfa9-ddae-479a-ea95-1649ddcb9a54"
      },
      "outputs": [
        {
          "name": "stdout",
          "output_type": "stream",
          "text": [
            "8.333333333333334\n",
            "your code has run successfully\n"
          ]
        }
      ],
      "source": [
        "x=50\n",
        "y=6\n",
        "try:\n",
        "  x/y\n",
        "except:\n",
        "  print(\"your code has error\")\n",
        "else:\n",
        "  print(x/y)\n",
        "finally:\n",
        "  print(\"your code has run successfully\")"
      ]
    },
    {
      "cell_type": "code",
      "execution_count": null,
      "metadata": {
        "id": "SwNobNqM3d3u"
      },
      "outputs": [],
      "source": []
    },
    {
      "cell_type": "code",
      "execution_count": null,
      "metadata": {
        "colab": {
          "base_uri": "https://localhost:8080/"
        },
        "id": "_Z4WTm1T2kiZ",
        "outputId": "a19d72cc-7db6-490f-bf6a-61dc824cc7ae"
      },
      "outputs": [
        {
          "name": "stdout",
          "output_type": "stream",
          "text": [
            "    Joy  sunil  gita\n",
            "0  1998   1999  1999\n",
            "1   Hyd  delhi   Hyd\n"
          ]
        }
      ],
      "source": [
        "dict1={\"Joy\":[1998,\"Hyd\"],\"sunil\":[1999,\"delhi\"],\"gita\":[1999,\"Hyd\"]}\n",
        "import pandas as pd\n",
        "df=pd.DataFrame(dict1)\n",
        "print(df)\n",
        "df.to_csv(\"dictionary.csv\")# creates csv file\n"
      ]
    },
    {
      "cell_type": "code",
      "execution_count": null,
      "metadata": {
        "id": "bV3hlZ0U5_Hn"
      },
      "outputs": [],
      "source": [
        "file=open(\"text1.txt\",'w')\n",
        "file.write(\"this is first line\")#it will erase prev.data& writes given data\n",
        "file.close()"
      ]
    },
    {
      "cell_type": "code",
      "execution_count": null,
      "metadata": {
        "id": "kCUsTRbT7-OI"
      },
      "outputs": [],
      "source": [
        "file=open(\"text1.txt\",'a')\n",
        "file.write(\"this is second line\")\n",
        "file.close()"
      ]
    },
    {
      "cell_type": "code",
      "execution_count": null,
      "metadata": {
        "colab": {
          "base_uri": "https://localhost:8080/",
          "height": 35
        },
        "id": "t3cvEfl18WwS",
        "outputId": "87b63046-a0dd-407f-9757-3b7dd136cbe7"
      },
      "outputs": [
        {
          "data": {
            "application/vnd.google.colaboratory.intrinsic+json": {
              "type": "string"
            },
            "text/plain": [
              "'this is first linethis is second linethis is second linethis is second linethis is second linethis is second line'"
            ]
          },
          "execution_count": 84,
          "metadata": {},
          "output_type": "execute_result"
        }
      ],
      "source": [
        "file=open(\"text1.txt\",'r')\n",
        "file.read()"
      ]
    },
    {
      "cell_type": "code",
      "execution_count": null,
      "metadata": {
        "colab": {
          "base_uri": "https://localhost:8080/"
        },
        "id": "Q6TfCWnX8nj-",
        "outputId": "77acc411-2441-440e-cee8-83e3309c1957"
      },
      "outputs": [
        {
          "data": {
            "text/plain": [
              "['this is first linethis is second linethis is second linethis is second linethis is second linethis is second line']"
            ]
          },
          "execution_count": 86,
          "metadata": {},
          "output_type": "execute_result"
        }
      ],
      "source": [
        "file=open(\"text1.txt\",'r')\n",
        "file.readlines()"
      ]
    },
    {
      "cell_type": "code",
      "execution_count": null,
      "metadata": {
        "colab": {
          "base_uri": "https://localhost:8080/"
        },
        "id": "LOf2K0ku85hH",
        "outputId": "18567f8c-e17b-4078-b025-546955f072d1"
      },
      "outputs": [
        {
          "name": "stdout",
          "output_type": "stream",
          "text": [
            "this is first linethis is second linethis is second linethis is second linethis is second linethis is second line\n"
          ]
        }
      ],
      "source": [
        "with open(\"text1.txt\",'r') as file:\n",
        "  print(file.read())"
      ]
    },
    {
      "cell_type": "code",
      "execution_count": 1,
      "metadata": {
        "id": "-XMKNwhv9dlA"
      },
      "outputs": [],
      "source": [
        "#find largest word in file\n"
      ]
    }
  ],
  "metadata": {
    "colab": {
      "provenance": [],
      "authorship_tag": "ABX9TyNTKufNssY8GxVx8vJqKMgY",
      "include_colab_link": true
    },
    "kernelspec": {
      "display_name": "Python 3",
      "name": "python3"
    },
    "language_info": {
      "name": "python"
    }
  },
  "nbformat": 4,
  "nbformat_minor": 0
}